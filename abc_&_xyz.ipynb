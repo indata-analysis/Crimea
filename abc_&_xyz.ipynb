{
 "cells": [
  {
   "cell_type": "code",
   "execution_count": 1,
   "id": "c1076079",
   "metadata": {},
   "outputs": [],
   "source": [
    "import pandas as pd"
   ]
  },
  {
   "cell_type": "code",
   "execution_count": 2,
   "id": "3f054d07",
   "metadata": {},
   "outputs": [],
   "source": [
    "df = pd.read_excel('sales_final.xlsx')"
   ]
  },
  {
   "cell_type": "code",
   "execution_count": 3,
   "id": "a7828b99",
   "metadata": {},
   "outputs": [
    {
     "data": {
      "text/html": [
       "<div>\n",
       "<style scoped>\n",
       "    .dataframe tbody tr th:only-of-type {\n",
       "        vertical-align: middle;\n",
       "    }\n",
       "\n",
       "    .dataframe tbody tr th {\n",
       "        vertical-align: top;\n",
       "    }\n",
       "\n",
       "    .dataframe thead th {\n",
       "        text-align: right;\n",
       "    }\n",
       "</style>\n",
       "<table border=\"1\" class=\"dataframe\">\n",
       "  <thead>\n",
       "    <tr style=\"text-align: right;\">\n",
       "      <th></th>\n",
       "      <th>Unnamed: 0</th>\n",
       "      <th>date</th>\n",
       "      <th>receipt</th>\n",
       "      <th>product</th>\n",
       "      <th>group_of_products</th>\n",
       "      <th>store</th>\n",
       "      <th>city</th>\n",
       "      <th>sold_quantity</th>\n",
       "      <th>tunover_no_VAT</th>\n",
       "      <th>tunover_VAT</th>\n",
       "      <th>purchase_price_VAT</th>\n",
       "      <th>purchase_cost_VAT</th>\n",
       "      <th>margin_VAT</th>\n",
       "      <th>profit</th>\n",
       "      <th>temperature</th>\n",
       "    </tr>\n",
       "  </thead>\n",
       "  <tbody>\n",
       "    <tr>\n",
       "      <th>0</th>\n",
       "      <td>1</td>\n",
       "      <td>2017-09-21</td>\n",
       "      <td>5</td>\n",
       "      <td>ИВ Лимонад Лаймони 0,6 л стекло</td>\n",
       "      <td>ВКУСОВАЯ, СЛАДКАЯ ВОДА, НАПИТКИ</td>\n",
       "      <td>АЗС № 1</td>\n",
       "      <td>Симферополь г</td>\n",
       "      <td>1</td>\n",
       "      <td>NaN</td>\n",
       "      <td>70.0</td>\n",
       "      <td>48.3</td>\n",
       "      <td>48.3</td>\n",
       "      <td>21.7</td>\n",
       "      <td>21.7</td>\n",
       "      <td>NaN</td>\n",
       "    </tr>\n",
       "  </tbody>\n",
       "</table>\n",
       "</div>"
      ],
      "text/plain": [
       "   Unnamed: 0       date  receipt                          product  \\\n",
       "0           1 2017-09-21        5  ИВ Лимонад Лаймони 0,6 л стекло   \n",
       "\n",
       "                 group_of_products    store           city  sold_quantity  \\\n",
       "0  ВКУСОВАЯ, СЛАДКАЯ ВОДА, НАПИТКИ  АЗС № 1  Симферополь г              1   \n",
       "\n",
       "   tunover_no_VAT  tunover_VAT  purchase_price_VAT  purchase_cost_VAT  \\\n",
       "0             NaN         70.0                48.3               48.3   \n",
       "\n",
       "   margin_VAT  profit  temperature  \n",
       "0        21.7    21.7          NaN  "
      ]
     },
     "execution_count": 3,
     "metadata": {},
     "output_type": "execute_result"
    }
   ],
   "source": [
    "df.head(1)"
   ]
  },
  {
   "cell_type": "code",
   "execution_count": null,
   "id": "10b7f1c2",
   "metadata": {},
   "outputs": [],
   "source": []
  },
  {
   "cell_type": "markdown",
   "id": "9efd281e",
   "metadata": {},
   "source": [
    "## дублирую таблицу, удаляя ненужные столбцы и переименовывая их "
   ]
  },
  {
   "cell_type": "code",
   "execution_count": 64,
   "id": "bca00d38",
   "metadata": {},
   "outputs": [],
   "source": [
    "df1 = df.drop(['Unnamed: 0', 'date', 'receipt', 'group_of_products', 'store', 'city', \n",
    "               'sold_quantity', 'tunover_no_VAT', 'tunover_VAT', 'purchase_price_VAT', 'purchase_cost_VAT', \n",
    "               'margin_VAT', 'temperature'], axis=1)"
   ]
  },
  {
   "cell_type": "code",
   "execution_count": 65,
   "id": "03e831ad",
   "metadata": {},
   "outputs": [],
   "source": [
    "df1 = df.groupby('product').agg({'product':'count','profit':'sum'})\\\n",
    ".rename(columns={'product':'Количество', 'profit': 'Доход'}).reset_index()\n",
    "df1 = df1.rename(columns={'product':'Товар', 'profit': 'Доход'})"
   ]
  },
  {
   "cell_type": "code",
   "execution_count": null,
   "id": "0b300b7d",
   "metadata": {},
   "outputs": [],
   "source": []
  },
  {
   "cell_type": "markdown",
   "id": "c9fa3806",
   "metadata": {},
   "source": [
    "### создаем две таблицы, сортируем одну по доходу, вторую по количеству "
   ]
  },
  {
   "cell_type": "markdown",
   "id": "cb30a869",
   "metadata": {},
   "source": [
    "### abc - Анализ по доходу, xyz – анализ по спросу "
   ]
  },
  {
   "cell_type": "code",
   "execution_count": 66,
   "id": "656babbe",
   "metadata": {},
   "outputs": [],
   "source": [
    "df_abc = df1.sort_values(by='Доход', ascending=False)\n",
    "df_abc = df_abc.drop('Количество', axis=1)"
   ]
  },
  {
   "cell_type": "code",
   "execution_count": 67,
   "id": "61014b9f",
   "metadata": {
    "scrolled": true
   },
   "outputs": [
    {
     "data": {
      "text/html": [
       "<div>\n",
       "<style scoped>\n",
       "    .dataframe tbody tr th:only-of-type {\n",
       "        vertical-align: middle;\n",
       "    }\n",
       "\n",
       "    .dataframe tbody tr th {\n",
       "        vertical-align: top;\n",
       "    }\n",
       "\n",
       "    .dataframe thead th {\n",
       "        text-align: right;\n",
       "    }\n",
       "</style>\n",
       "<table border=\"1\" class=\"dataframe\">\n",
       "  <thead>\n",
       "    <tr style=\"text-align: right;\">\n",
       "      <th></th>\n",
       "      <th>Товар</th>\n",
       "      <th>Доход</th>\n",
       "    </tr>\n",
       "  </thead>\n",
       "  <tbody>\n",
       "    <tr>\n",
       "      <th>2579</th>\n",
       "      <td>Кофе АМЕРИКАНО 200 мл АЗС 2 АЗС 4</td>\n",
       "      <td>1.227513e+06</td>\n",
       "    </tr>\n",
       "    <tr>\n",
       "      <th>2590</th>\n",
       "      <td>Кофе КАПУЧИНО 200 мл АЗС 2 АЗС 4</td>\n",
       "      <td>8.269544e+05</td>\n",
       "    </tr>\n",
       "    <tr>\n",
       "      <th>2587</th>\n",
       "      <td>Кофе ДВОЙНОЙ ЭСПРЕССО 120 мл АЗС 2 АЗС 4</td>\n",
       "      <td>5.873150e+05</td>\n",
       "    </tr>\n",
       "  </tbody>\n",
       "</table>\n",
       "</div>"
      ],
      "text/plain": [
       "                                         Товар         Доход\n",
       "2579         Кофе АМЕРИКАНО 200 мл АЗС 2 АЗС 4  1.227513e+06\n",
       "2590          Кофе КАПУЧИНО 200 мл АЗС 2 АЗС 4  8.269544e+05\n",
       "2587  Кофе ДВОЙНОЙ ЭСПРЕССО 120 мл АЗС 2 АЗС 4  5.873150e+05"
      ]
     },
     "execution_count": 67,
     "metadata": {},
     "output_type": "execute_result"
    }
   ],
   "source": [
    "df_abc.head(3)"
   ]
  },
  {
   "cell_type": "code",
   "execution_count": 68,
   "id": "7ec67c62",
   "metadata": {},
   "outputs": [],
   "source": [
    "df_xyz = df1.sort_values(by='Количество', ascending=False)\n",
    "df_xyz = df_xyz.drop('Доход', axis=1)"
   ]
  },
  {
   "cell_type": "code",
   "execution_count": 69,
   "id": "877e65fe",
   "metadata": {
    "scrolled": true
   },
   "outputs": [
    {
     "data": {
      "text/html": [
       "<div>\n",
       "<style scoped>\n",
       "    .dataframe tbody tr th:only-of-type {\n",
       "        vertical-align: middle;\n",
       "    }\n",
       "\n",
       "    .dataframe tbody tr th {\n",
       "        vertical-align: top;\n",
       "    }\n",
       "\n",
       "    .dataframe thead th {\n",
       "        text-align: right;\n",
       "    }\n",
       "</style>\n",
       "<table border=\"1\" class=\"dataframe\">\n",
       "  <thead>\n",
       "    <tr style=\"text-align: right;\">\n",
       "      <th></th>\n",
       "      <th>Товар</th>\n",
       "      <th>Количество</th>\n",
       "    </tr>\n",
       "  </thead>\n",
       "  <tbody>\n",
       "    <tr>\n",
       "      <th>2579</th>\n",
       "      <td>Кофе АМЕРИКАНО 200 мл АЗС 2 АЗС 4</td>\n",
       "      <td>25148</td>\n",
       "    </tr>\n",
       "    <tr>\n",
       "      <th>2624</th>\n",
       "      <td>Кофе с молоком 160 мл АЗС № 11</td>\n",
       "      <td>15478</td>\n",
       "    </tr>\n",
       "    <tr>\n",
       "      <th>2590</th>\n",
       "      <td>Кофе КАПУЧИНО 200 мл АЗС 2 АЗС 4</td>\n",
       "      <td>15288</td>\n",
       "    </tr>\n",
       "  </tbody>\n",
       "</table>\n",
       "</div>"
      ],
      "text/plain": [
       "                                  Товар  Количество\n",
       "2579  Кофе АМЕРИКАНО 200 мл АЗС 2 АЗС 4       25148\n",
       "2624     Кофе с молоком 160 мл АЗС № 11       15478\n",
       "2590   Кофе КАПУЧИНО 200 мл АЗС 2 АЗС 4       15288"
      ]
     },
     "execution_count": 69,
     "metadata": {},
     "output_type": "execute_result"
    }
   ],
   "source": [
    "df_xyz.head(3)"
   ]
  },
  {
   "cell_type": "code",
   "execution_count": null,
   "id": "44598719",
   "metadata": {},
   "outputs": [],
   "source": []
  },
  {
   "cell_type": "markdown",
   "id": "c3434db0",
   "metadata": {},
   "source": [
    "## считаем, доля вклада каждого товара в общую выручку "
   ]
  },
  {
   "cell_type": "code",
   "execution_count": 70,
   "id": "11d18bd2",
   "metadata": {},
   "outputs": [],
   "source": [
    "df_abc['Доля'] = df_abc['Доход'] / df_abc['Доход'].sum()\n",
    "df_xyz['Доля'] = df_xyz['Количество'] / df_xyz['Количество'].sum()"
   ]
  },
  {
   "cell_type": "code",
   "execution_count": 71,
   "id": "d2bec96e",
   "metadata": {},
   "outputs": [],
   "source": [
    "df_abc['Аккум.доля'] = df_abc['Доля'].cumsum()\n",
    "df_xyz['Аккум.доля'] = df_xyz['Доля'].cumsum()"
   ]
  },
  {
   "cell_type": "code",
   "execution_count": 72,
   "id": "88a295d5",
   "metadata": {},
   "outputs": [],
   "source": [
    "df_abc[\"Категория\"] = ''\n",
    "df_xyz[\"Категория\"] = ''"
   ]
  },
  {
   "cell_type": "code",
   "execution_count": 73,
   "id": "16e5cba8",
   "metadata": {},
   "outputs": [],
   "source": [
    "df_abc.loc[df_abc['Аккум.доля'] < 0.8,'Категория' ] = 'A'\n",
    "df_abc.loc[(df_abc['Аккум.доля'] > 0.8) & (df_abc['Аккум.доля'] < 0.95),'Категория' ] = 'B'\n",
    "df_abc.loc[df_abc['Аккум.доля'] > 0.95,'Категория' ] = 'C'\n",
    "\n",
    "df_xyz.loc[df_xyz['Аккум.доля'] < 0.8,'Категория' ] = 'A'\n",
    "df_xyz.loc[(df_xyz['Аккум.доля'] > 0.8) & (df_xyz['Аккум.доля'] < 0.95),'Категория' ] = 'B'\n",
    "df_xyz.loc[df_xyz['Аккум.доля'] > 0.95,'Категория' ] = 'C'"
   ]
  },
  {
   "cell_type": "code",
   "execution_count": 74,
   "id": "329c5467",
   "metadata": {},
   "outputs": [
    {
     "data": {
      "text/html": [
       "<div>\n",
       "<style scoped>\n",
       "    .dataframe tbody tr th:only-of-type {\n",
       "        vertical-align: middle;\n",
       "    }\n",
       "\n",
       "    .dataframe tbody tr th {\n",
       "        vertical-align: top;\n",
       "    }\n",
       "\n",
       "    .dataframe thead th {\n",
       "        text-align: right;\n",
       "    }\n",
       "</style>\n",
       "<table border=\"1\" class=\"dataframe\">\n",
       "  <thead>\n",
       "    <tr style=\"text-align: right;\">\n",
       "      <th></th>\n",
       "      <th>Товар</th>\n",
       "      <th>Доход</th>\n",
       "      <th>Доля</th>\n",
       "      <th>Аккум.доля</th>\n",
       "      <th>Категория</th>\n",
       "    </tr>\n",
       "  </thead>\n",
       "  <tbody>\n",
       "    <tr>\n",
       "      <th>2579</th>\n",
       "      <td>Кофе АМЕРИКАНО 200 мл АЗС 2 АЗС 4</td>\n",
       "      <td>1.227513e+06</td>\n",
       "      <td>0.066017</td>\n",
       "      <td>0.066017</td>\n",
       "      <td>A</td>\n",
       "    </tr>\n",
       "    <tr>\n",
       "      <th>2590</th>\n",
       "      <td>Кофе КАПУЧИНО 200 мл АЗС 2 АЗС 4</td>\n",
       "      <td>8.269544e+05</td>\n",
       "      <td>0.044474</td>\n",
       "      <td>0.110491</td>\n",
       "      <td>A</td>\n",
       "    </tr>\n",
       "    <tr>\n",
       "      <th>2587</th>\n",
       "      <td>Кофе ДВОЙНОЙ ЭСПРЕССО 120 мл АЗС 2 АЗС 4</td>\n",
       "      <td>5.873150e+05</td>\n",
       "      <td>0.031586</td>\n",
       "      <td>0.142078</td>\n",
       "      <td>A</td>\n",
       "    </tr>\n",
       "    <tr>\n",
       "      <th>2624</th>\n",
       "      <td>Кофе с молоком 160 мл АЗС № 11</td>\n",
       "      <td>5.200956e+05</td>\n",
       "      <td>0.027971</td>\n",
       "      <td>0.170049</td>\n",
       "      <td>A</td>\n",
       "    </tr>\n",
       "    <tr>\n",
       "      <th>2599</th>\n",
       "      <td>Кофе ЛАТТЕ 300 мл АЗС 2 АЗС 4</td>\n",
       "      <td>4.044433e+05</td>\n",
       "      <td>0.021751</td>\n",
       "      <td>0.191800</td>\n",
       "      <td>A</td>\n",
       "    </tr>\n",
       "  </tbody>\n",
       "</table>\n",
       "</div>"
      ],
      "text/plain": [
       "                                         Товар         Доход      Доля  \\\n",
       "2579         Кофе АМЕРИКАНО 200 мл АЗС 2 АЗС 4  1.227513e+06  0.066017   \n",
       "2590          Кофе КАПУЧИНО 200 мл АЗС 2 АЗС 4  8.269544e+05  0.044474   \n",
       "2587  Кофе ДВОЙНОЙ ЭСПРЕССО 120 мл АЗС 2 АЗС 4  5.873150e+05  0.031586   \n",
       "2624            Кофе с молоком 160 мл АЗС № 11  5.200956e+05  0.027971   \n",
       "2599             Кофе ЛАТТЕ 300 мл АЗС 2 АЗС 4  4.044433e+05  0.021751   \n",
       "\n",
       "      Аккум.доля Категория  \n",
       "2579    0.066017         A  \n",
       "2590    0.110491         A  \n",
       "2587    0.142078         A  \n",
       "2624    0.170049         A  \n",
       "2599    0.191800         A  "
      ]
     },
     "execution_count": 74,
     "metadata": {},
     "output_type": "execute_result"
    }
   ],
   "source": [
    "df_abc.head()"
   ]
  },
  {
   "cell_type": "code",
   "execution_count": 75,
   "id": "2f085d8d",
   "metadata": {},
   "outputs": [
    {
     "data": {
      "text/html": [
       "<div>\n",
       "<style scoped>\n",
       "    .dataframe tbody tr th:only-of-type {\n",
       "        vertical-align: middle;\n",
       "    }\n",
       "\n",
       "    .dataframe tbody tr th {\n",
       "        vertical-align: top;\n",
       "    }\n",
       "\n",
       "    .dataframe thead th {\n",
       "        text-align: right;\n",
       "    }\n",
       "</style>\n",
       "<table border=\"1\" class=\"dataframe\">\n",
       "  <thead>\n",
       "    <tr style=\"text-align: right;\">\n",
       "      <th></th>\n",
       "      <th>Товар</th>\n",
       "      <th>Количество</th>\n",
       "      <th>Доля</th>\n",
       "      <th>Аккум.доля</th>\n",
       "      <th>Категория</th>\n",
       "    </tr>\n",
       "  </thead>\n",
       "  <tbody>\n",
       "    <tr>\n",
       "      <th>2579</th>\n",
       "      <td>Кофе АМЕРИКАНО 200 мл АЗС 2 АЗС 4</td>\n",
       "      <td>25148</td>\n",
       "      <td>0.035245</td>\n",
       "      <td>0.035245</td>\n",
       "      <td>A</td>\n",
       "    </tr>\n",
       "    <tr>\n",
       "      <th>2624</th>\n",
       "      <td>Кофе с молоком 160 мл АЗС № 11</td>\n",
       "      <td>15478</td>\n",
       "      <td>0.021693</td>\n",
       "      <td>0.056938</td>\n",
       "      <td>A</td>\n",
       "    </tr>\n",
       "    <tr>\n",
       "      <th>2590</th>\n",
       "      <td>Кофе КАПУЧИНО 200 мл АЗС 2 АЗС 4</td>\n",
       "      <td>15288</td>\n",
       "      <td>0.021426</td>\n",
       "      <td>0.078364</td>\n",
       "      <td>A</td>\n",
       "    </tr>\n",
       "    <tr>\n",
       "      <th>5392</th>\n",
       "      <td>Чай Мустанг</td>\n",
       "      <td>12686</td>\n",
       "      <td>0.017780</td>\n",
       "      <td>0.096143</td>\n",
       "      <td>A</td>\n",
       "    </tr>\n",
       "    <tr>\n",
       "      <th>2582</th>\n",
       "      <td>Кофе Американо 160 мл АЗС 11</td>\n",
       "      <td>11807</td>\n",
       "      <td>0.016548</td>\n",
       "      <td>0.112691</td>\n",
       "      <td>A</td>\n",
       "    </tr>\n",
       "  </tbody>\n",
       "</table>\n",
       "</div>"
      ],
      "text/plain": [
       "                                  Товар  Количество      Доля  Аккум.доля  \\\n",
       "2579  Кофе АМЕРИКАНО 200 мл АЗС 2 АЗС 4       25148  0.035245    0.035245   \n",
       "2624     Кофе с молоком 160 мл АЗС № 11       15478  0.021693    0.056938   \n",
       "2590   Кофе КАПУЧИНО 200 мл АЗС 2 АЗС 4       15288  0.021426    0.078364   \n",
       "5392                        Чай Мустанг       12686  0.017780    0.096143   \n",
       "2582       Кофе Американо 160 мл АЗС 11       11807  0.016548    0.112691   \n",
       "\n",
       "     Категория  \n",
       "2579         A  \n",
       "2624         A  \n",
       "2590         A  \n",
       "5392         A  \n",
       "2582         A  "
      ]
     },
     "execution_count": 75,
     "metadata": {},
     "output_type": "execute_result"
    }
   ],
   "source": [
    "df_xyz.head()"
   ]
  }
 ],
 "metadata": {
  "kernelspec": {
   "display_name": "Python 3 (ipykernel)",
   "language": "python",
   "name": "python3"
  },
  "language_info": {
   "codemirror_mode": {
    "name": "ipython",
    "version": 3
   },
   "file_extension": ".py",
   "mimetype": "text/x-python",
   "name": "python",
   "nbconvert_exporter": "python",
   "pygments_lexer": "ipython3",
   "version": "3.10.5"
  }
 },
 "nbformat": 4,
 "nbformat_minor": 5
}
